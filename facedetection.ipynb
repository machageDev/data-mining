{
 "cells": [
  {
   "cell_type": "code",
   "execution_count": null,
   "id": "f4716cf4-28cf-4f2f-8955-bb7eaddda406",
   "metadata": {},
   "outputs": [],
   "source": [
    "!pip install opencv-python\n",
    "import cv2\n",
    "import numpy as np\n",
    "from sklearn.metrics import confusion_matrix, roc_curve, auc\n",
    "import matplotlib.pyplot as plt\n",
    "# Load the pre-trained face detection classifier\n",
    "face_cascade = cv2.CascadeClassifier(cv2.data.haarcascades + 'haarcascade_frontalface_default.xml')"
   ]
  },
  {
   "cell_type": "code",
   "execution_count": null,
   "id": "50d27788-c5d9-42a7-93e8-4083f57e0245",
   "metadata": {},
   "outputs": [],
   "source": [
    "# Load the images and detect faces in them\n",
    "images = ['/content/image1.jpg', '/content/image2.jpg', '/content/image3.jpg', '/content/image4.jpg', '/content/image5.jpg', '/content/image6.jpg', '/content/image7.jpg', '/content/image8.jpg', '/content/image9.jpg', '/content/image10.jpg']"
   ]
  },
  {
   "cell_type": "code",
   "execution_count": null,
   "id": "03a4f885-c9e3-4be3-b8d7-df04adce9bd5",
   "metadata": {},
   "outputs": [],
   "source": [
    "# Set up empty lists to store true and false positive rates\n",
    "true_positives = []\n",
    "false_positives = []"
   ]
  },
  {
   "cell_type": "code",
   "execution_count": null,
   "id": "d6c414ce-7dd0-44a9-a70a-0e979e78b90e",
   "metadata": {},
   "outputs": [],
   "source": [
    "for i in range(len(images)):\n",
    "    img = cv2.imread(images[i])\n",
    "    gray = cv2.cvtColor(img, cv2.COLOR_BGR2GRAY)\n",
    "    faces = face_cascade.detectMultiScale(gray, scaleFactor=1.1, minNeighbors=5, minSize=(30, 30))\n",
    "    \n",
    "    # Draw rectangles around the detected faces\n",
    "    for (x, y, w, h) in faces:\n",
    "        cv2.rectangle(img, (x, y), (x+w, y+h), (0, 255, 0), 2)\n",
    "    \n",
    "    # Save the image with detections\n",
    "    cv2.imwrite('detections_{}.jpg'.format(i), img)\n",
    "\n",
    "    # Count the number of true positives and false positives\n",
    "    tp = len(faces)  # true positives\n",
    "    fp = gray.shape[0] * gray.shape[1] - tp  # false positives (assuming all non-face pixels are false positives)\n",
    "\n",
    "    # Append true and false positive rates to the lists\n",
    "    true_positives.append(tp)\n",
    "    false_positives.append(fp)\n"
   ]
  },
  {
   "cell_type": "code",
   "execution_count": null,
   "id": "d8cfb400-73f2-47f1-8a62-addbb62cef68",
   "metadata": {},
   "outputs": [],
   "source": [
    "# Convert true and false positive rates to numpy arrays\n",
    "tpr = np.array(true_positives) / (gray.shape[0] * gray.shape[1] * len(images))\n",
    "fpr = np.array(false_positives) / (gray.shape[0] * gray.shape[1] * len(images))\n"
   ]
  },
  {
   "cell_type": "code",
   "execution_count": null,
   "id": "1d65718a-59a1-4ba2-bd41-951d6df2f42b",
   "metadata": {},
   "outputs": [],
   "source": [
    "# Plot the ROC curve\n",
    "plt.plot(fpr, tpr)\n",
    "plt.xlabel('False Positive Rate')\n",
    "plt.ylabel('True Positive Rate')\n",
    "plt.title('ROC Curve')\n",
    "plt.show()"
   ]
  },
  {
   "cell_type": "code",
   "execution_count": null,
   "id": "694d0c4f-dc61-4d5c-9ec2-f54597e18ca9",
   "metadata": {},
   "outputs": [],
   "source": []
  }
 ],
 "metadata": {
  "kernelspec": {
   "display_name": "Python 3 (ipykernel)",
   "language": "python",
   "name": "python3"
  },
  "language_info": {
   "codemirror_mode": {
    "name": "ipython",
    "version": 3
   },
   "file_extension": ".py",
   "mimetype": "text/x-python",
   "name": "python",
   "nbconvert_exporter": "python",
   "pygments_lexer": "ipython3",
   "version": "3.12.7"
  }
 },
 "nbformat": 4,
 "nbformat_minor": 5
}
